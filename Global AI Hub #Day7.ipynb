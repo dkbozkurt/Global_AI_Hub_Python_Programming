{
 "cells": [
  {
   "cell_type": "markdown",
   "metadata": {
    "colab_type": "text",
    "id": "TBeKz1NeP_uZ"
   },
   "source": [
    "### Tek satır if (One-liner if)"
   ]
  },
  {
   "cell_type": "code",
   "execution_count": null,
   "metadata": {
    "colab": {},
    "colab_type": "code",
    "id": "wRcuV_1XP_ub",
    "outputId": "10efc7b5-4dc7-4f1f-ddd3-cd6efcb99698"
   },
   "outputs": [
    {
     "name": "stdout",
     "output_type": "stream",
     "text": [
      "Armut\n"
     ]
    }
   ],
   "source": [
    "koşul = 3\n",
    "\n",
    "if koşul > 5:\n",
    "    kelime = \"Elma\"\n",
    "elif koşul > 7:\n",
    "    pass\n",
    "else:\n",
    "    kelime = \"Armut\"\n",
    "    print(kelime)"
   ]
  },
  {
   "cell_type": "code",
   "execution_count": null,
   "metadata": {
    "colab": {},
    "colab_type": "code",
    "id": "lm1It3HCP_uv"
   },
   "outputs": [],
   "source": [
    "kelime = \"Elma\" if koşul else \"Armut\" if koşul > 5 else \"Çilek\""
   ]
  },
  {
   "cell_type": "markdown",
   "metadata": {
    "colab_type": "text",
    "id": "M3n-G91PP_uy"
   },
   "source": [
    "### Tek satır fonksiyon Lambda (One-liner function Lambda)"
   ]
  },
  {
   "cell_type": "code",
   "execution_count": null,
   "metadata": {
    "colab": {},
    "colab_type": "code",
    "id": "4-KHyp_2P_uz",
    "outputId": "d7934bd2-c804-474a-daa1-b9bb6f2f600f"
   },
   "outputs": [
    {
     "data": {
      "text/plain": [
       "'Hello World'"
      ]
     },
     "execution_count": 70,
     "metadata": {
      "tags": []
     },
     "output_type": "execute_result"
    }
   ],
   "source": [
    "def hello_world():\n",
    "    return \"Hello World\"\n",
    "\n",
    "hello_world()"
   ]
  },
  {
   "cell_type": "code",
   "execution_count": null,
   "metadata": {
    "colab": {},
    "colab_type": "code",
    "id": "itlMn0LjP_u4",
    "outputId": "dc2d1fb2-e04b-472c-c445-d050e8664327"
   },
   "outputs": [
    {
     "data": {
      "text/plain": [
       "25"
      ]
     },
     "execution_count": 71,
     "metadata": {
      "tags": []
     },
     "output_type": "execute_result"
    }
   ],
   "source": [
    "def kare_alma(x):\n",
    "    x = x ** 2\n",
    "    return x\n",
    "\n",
    "kare_alma(5)"
   ]
  },
  {
   "cell_type": "code",
   "execution_count": null,
   "metadata": {
    "colab": {},
    "colab_type": "code",
    "id": "FYOp-flEP_u8",
    "outputId": "bf861c9d-78b7-4b75-ef9f-4f104cd814f5"
   },
   "outputs": [
    {
     "data": {
      "text/plain": [
       "25"
      ]
     },
     "execution_count": 72,
     "metadata": {
      "tags": []
     },
     "output_type": "execute_result"
    }
   ],
   "source": [
    "kare_al = lambda x: x**2\n",
    "kare_al(5)"
   ]
  },
  {
   "cell_type": "markdown",
   "metadata": {
    "colab_type": "text",
    "id": "azY_abn6P_u_"
   },
   "source": [
    "### map, reduce, filter, zip fonksiyonları"
   ]
  },
  {
   "cell_type": "code",
   "execution_count": null,
   "metadata": {
    "colab": {},
    "colab_type": "code",
    "id": "E6ENyZYIP_u_",
    "outputId": "5554ae70-454d-4f35-a8da-241b666e7005"
   },
   "outputs": [
    {
     "name": "stdout",
     "output_type": "stream",
     "text": [
      "[1, 4, 9, 16, 25, 36, 49]\n"
     ]
    }
   ],
   "source": [
    "sayılar = [1, 2, 3, 4, 5, 6, 7]\n",
    "sayıların_kareleri = []\n",
    "\n",
    "for sayı in sayılar:\n",
    "    sayıların_kareleri.append(kare_al(sayı))\n",
    "print(sayıların_kareleri)"
   ]
  },
  {
   "cell_type": "code",
   "execution_count": null,
   "metadata": {
    "colab": {},
    "colab_type": "code",
    "id": "izUdZjgWP_vD",
    "outputId": "c06bf937-c953-45c8-fe83-4a09b17d7d9b"
   },
   "outputs": [
    {
     "name": "stdout",
     "output_type": "stream",
     "text": [
      "<map object at 0x000001E644B84108>\n"
     ]
    }
   ],
   "source": [
    "liste = [2,3,4]\n",
    "\n",
    "def kare_al2(sayi23):\n",
    "    return sayi **2\n",
    "\n",
    "result = map(kare_al2,liste)\n",
    "print(result)"
   ]
  },
  {
   "cell_type": "code",
   "execution_count": null,
   "metadata": {
    "colab": {},
    "colab_type": "code",
    "id": "OHh95AXAP_vI",
    "outputId": "f592bca1-b252-4f6e-d2fe-538ac160d069"
   },
   "outputs": [
    {
     "name": "stdout",
     "output_type": "stream",
     "text": [
      "<map object at 0x000001E64334D988>\n",
      "1\n",
      "4\n",
      "9\n",
      "16\n",
      "25\n",
      "36\n",
      "49\n"
     ]
    }
   ],
   "source": [
    "#map(function,iteration) \n",
    "sayıların_kareleri =  map(kare_al, sayılar)\n",
    "print(sayıların_kareleri)\n",
    "for sayı in sayıların_kareleri:\n",
    "    print(sayı)\n"
   ]
  },
  {
   "cell_type": "code",
   "execution_count": null,
   "metadata": {
    "colab": {},
    "colab_type": "code",
    "id": "bwsGROcwP_vL",
    "outputId": "c0138925-f00f-47df-cf41-56d45df3d167"
   },
   "outputs": [
    {
     "name": "stdout",
     "output_type": "stream",
     "text": [
      "10\n"
     ]
    }
   ],
   "source": [
    "from functools import reduce\n",
    "\n",
    "sayılar = [1, 6, 3, 7, 10, 0]\n",
    "print(reduce(lambda x,y: x if x > y else y, sayılar))"
   ]
  },
  {
   "cell_type": "code",
   "execution_count": null,
   "metadata": {
    "colab": {},
    "colab_type": "code",
    "id": "tvvju8vbP_vP",
    "outputId": "f1a7786c-7410-4d1a-adbd-a242b188e907"
   },
   "outputs": [
    {
     "name": "stdout",
     "output_type": "stream",
     "text": [
      "<filter object at 0x000001E64565DE48>\n",
      "Necati\n",
      "Mehmet\n"
     ]
    }
   ],
   "source": [
    "def beşten_uzun(kelime):\n",
    "    if len(kelime) > 5:\n",
    "        return True\n",
    "    else:\n",
    "        return False\n",
    "isimler = ['Oğuz', 'Ahmet', 'Necati', 'Ali', 'Mehmet', 'Ziya']\n",
    "uzun_isimler = filter(beşten_uzun, isimler)\n",
    "print(uzun_isimler)\n",
    "for isim in uzun_isimler:\n",
    "    print(isim)"
   ]
  },
  {
   "cell_type": "code",
   "execution_count": null,
   "metadata": {
    "colab": {},
    "colab_type": "code",
    "id": "gaqjnObCP_vR",
    "outputId": "054d87ca-9bd5-485f-b49a-393e5e9449cd"
   },
   "outputs": [
    {
     "name": "stdout",
     "output_type": "stream",
     "text": [
      "0 Oğuz\n",
      "1 Ahmet\n",
      "2 Necati\n",
      "3 Ali\n",
      "4 Mehmet\n",
      "5 Ziya\n"
     ]
    }
   ],
   "source": [
    "sayılar = [0, 1, 2, 3, 4, 5]\n",
    "isimler = ['Oğuz', 'Ahmet', 'Necati', 'Ali', 'Mehmet', 'Ziya']\n",
    "\n",
    "\n",
    "for i, j in zip(sayılar, isimler):\n",
    "    print(i,j)\n"
   ]
  },
  {
   "cell_type": "markdown",
   "metadata": {
    "colab_type": "text",
    "id": "_Ype8n9xP_vV"
   },
   "source": [
    "### Assert anahtar kelimesi ( Assert keyword )"
   ]
  },
  {
   "cell_type": "code",
   "execution_count": null,
   "metadata": {
    "colab": {},
    "colab_type": "code",
    "id": "-DARy06CP_vV",
    "outputId": "ca7a1ba6-fecc-405c-e2e8-f03240c6bbe0"
   },
   "outputs": [
    {
     "name": "stdout",
     "output_type": "stream",
     "text": [
      "Yaşınız:-2\n"
     ]
    },
    {
     "ename": "AssertionError",
     "evalue": "Yaşınız negatif olamaz",
     "output_type": "error",
     "traceback": [
      "\u001b[1;31m---------------------------------------------------------------------------\u001b[0m",
      "\u001b[1;31mAssertionError\u001b[0m                            Traceback (most recent call last)",
      "\u001b[1;32m<ipython-input-86-70f9b1578f3f>\u001b[0m in \u001b[0;36m<module>\u001b[1;34m\u001b[0m\n\u001b[0;32m      1\u001b[0m \u001b[0myaş\u001b[0m \u001b[1;33m=\u001b[0m \u001b[0minput\u001b[0m\u001b[1;33m(\u001b[0m\u001b[1;34m\"Yaşınız:\"\u001b[0m\u001b[1;33m)\u001b[0m\u001b[1;33m\u001b[0m\u001b[1;33m\u001b[0m\u001b[0m\n\u001b[1;32m----> 2\u001b[1;33m \u001b[1;32massert\u001b[0m \u001b[0mint\u001b[0m\u001b[1;33m(\u001b[0m\u001b[0myaş\u001b[0m\u001b[1;33m)\u001b[0m \u001b[1;33m>=\u001b[0m \u001b[1;36m0\u001b[0m\u001b[1;33m,\u001b[0m \u001b[1;34m\"Yaşınız negatif olamaz\"\u001b[0m\u001b[1;33m\u001b[0m\u001b[1;33m\u001b[0m\u001b[0m\n\u001b[0m",
      "\u001b[1;31mAssertionError\u001b[0m: Yaşınız negatif olamaz"
     ]
    }
   ],
   "source": [
    "yaş = input(\"Yaşınız:\")\n",
    "assert int(yaş) >= 0, \"Yaşınız negatif olamaz\""
   ]
  },
  {
   "cell_type": "markdown",
   "metadata": {
    "colab_type": "text",
    "id": "Yij1cuBrP_vZ"
   },
   "source": [
    "### Üreteçler (Generators)"
   ]
  },
  {
   "cell_type": "code",
   "execution_count": null,
   "metadata": {
    "colab": {},
    "colab_type": "code",
    "id": "Rr5rSPKlP_va",
    "outputId": "0c09de90-d601-4bfb-da8e-246e8bf03444"
   },
   "outputs": [
    {
     "name": "stdout",
     "output_type": "stream",
     "text": [
      "Öncelikle bu basıldı\n",
      "For döngüsü içinde: 1\n",
      "Sonra bu\n",
      "For döngüsü içinde: 2\n"
     ]
    }
   ],
   "source": [
    "def generator():\n",
    "    i = 1\n",
    "    print('Öncelikle bu basıldı')\n",
    "    yield i\n",
    "\n",
    "    i += 1\n",
    "    print('Sonra bu')\n",
    "    yield i\n",
    "\n",
    "for eleman in generator():\n",
    "    print(\"For döngüsü içinde:\", eleman)\n"
   ]
  },
  {
   "cell_type": "code",
   "execution_count": null,
   "metadata": {
    "colab": {},
    "colab_type": "code",
    "id": "LEUdUxmaP_vf",
    "outputId": "ea13a788-c3b4-4787-aa5a-dc16f8f498ad"
   },
   "outputs": [
    {
     "name": "stdout",
     "output_type": "stream",
     "text": [
      "outer fonksiyon: 3\n",
      "inner fonksiyon: 8\n"
     ]
    },
    {
     "ename": "NameError",
     "evalue": "name 'inner' is not defined",
     "output_type": "error",
     "traceback": [
      "\u001b[1;31m---------------------------------------------------------------------------\u001b[0m",
      "\u001b[1;31mNameError\u001b[0m                                 Traceback (most recent call last)",
      "\u001b[1;32m<ipython-input-90-2d7815d68966>\u001b[0m in \u001b[0;36m<module>\u001b[1;34m\u001b[0m\n\u001b[0;32m     11\u001b[0m \u001b[1;33m\u001b[0m\u001b[0m\n\u001b[0;32m     12\u001b[0m \u001b[0mouter\u001b[0m\u001b[1;33m(\u001b[0m\u001b[1;33m)\u001b[0m\u001b[1;33m\u001b[0m\u001b[1;33m\u001b[0m\u001b[0m\n\u001b[1;32m---> 13\u001b[1;33m \u001b[0minner\u001b[0m\u001b[1;33m(\u001b[0m\u001b[1;33m)\u001b[0m\u001b[1;33m\u001b[0m\u001b[1;33m\u001b[0m\u001b[0m\n\u001b[0m\u001b[0;32m     14\u001b[0m \u001b[0mprint\u001b[0m\u001b[1;33m(\u001b[0m\u001b[1;34m\"global:\"\u001b[0m\u001b[1;33m,\u001b[0m \u001b[0ma\u001b[0m\u001b[1;33m)\u001b[0m\u001b[1;33m\u001b[0m\u001b[1;33m\u001b[0m\u001b[0m\n",
      "\u001b[1;31mNameError\u001b[0m: name 'inner' is not defined"
     ]
    }
   ],
   "source": [
    "a = 5\n",
    "\n",
    "def outer():\n",
    "    a = 3\n",
    "    def inner():\n",
    "        nonlocal a\n",
    "        a += 5\n",
    "        print(\"inner fonksiyon:\", a)\n",
    "    print(\"outer fonksiyon:\", a)\n",
    "    return inner()\n",
    "\n",
    "outer()\n",
    "inner()\n",
    "print(\"global:\", a)"
   ]
  },
  {
   "cell_type": "markdown",
   "metadata": {
    "colab_type": "text",
    "id": "ssXXc7YrP_vl"
   },
   "source": [
    "### Decorators"
   ]
  },
  {
   "cell_type": "code",
   "execution_count": 1,
   "metadata": {
    "colab": {},
    "colab_type": "code",
    "id": "GDryQbabP_vl",
    "outputId": "3f893c40-e724-43aa-ef7a-671afec8f5ad"
   },
   "outputs": [
    {
     "name": "stdout",
     "output_type": "stream",
     "text": [
      "Time: 11:52:20.050316\n",
      "Hi Dogukan!\n"
     ]
    }
   ],
   "source": [
    "#especially It is used for Flask and Django Framework\n",
    "from datetime import datetime\n",
    "\n",
    "def show_time(func):\n",
    "    def wrapper(name):\n",
    "        print(\"Time:\", datetime.now().time())\n",
    "        func(name)\n",
    "    return wrapper\n",
    "\n",
    "@show_time\n",
    "def say_hi(name=\"John\"):\n",
    "    print(\"Hi {}!\".format(name))\n",
    "\n",
    "say_hi(\"Dogukan\")"
   ]
  },
  {
   "cell_type": "code",
   "execution_count": null,
   "metadata": {
    "colab": {},
    "colab_type": "code",
    "id": "aodRAkDKP_vp",
    "outputId": "b06a5bb3-38b5-45d2-dffa-43aefa62f572"
   },
   "outputs": [
    {
     "name": "stdout",
     "output_type": "stream",
     "text": [
      "kare_al_wrapper 0.0HAHA\n",
      "[0, 1, 4, 9, 16, 25, 36, 49, 64, 81, 100, 121, 144, 169, 196, 225, 256, 289, 324, 361, 400, 441, 484, 529, 576, 625, 676, 729, 784, 841, 900, 961, 1024, 1089, 1156, 1225, 1296, 1369, 1444, 1521, 1600, 1681, 1764, 1849, 1936, 2025, 2116, 2209, 2304, 2401, 2500, 2601, 2704, 2809, 2916, 3025, 3136, 3249, 3364, 3481, 3600, 3721, 3844, 3969, 4096, 4225, 4356, 4489, 4624, 4761, 4900, 5041, 5184, 5329, 5476, 5625, 5776, 5929, 6084, 6241, 6400, 6561, 6724, 6889, 7056, 7225, 7396, 7569, 7744, 7921, 8100, 8281, 8464, 8649, 8836, 9025, 9216, 9409, 9604, 9801]\n",
      "kup_al_wrapper 0.0HAHA\n",
      "[0, 1, 8, 27, 64, 125, 216, 343, 512, 729, 1000, 1331, 1728, 2197, 2744, 3375, 4096, 4913, 5832, 6859, 8000, 9261, 10648, 12167, 13824, 15625, 17576, 19683, 21952, 24389, 27000, 29791, 32768, 35937, 39304, 42875, 46656, 50653, 54872, 59319, 64000, 68921, 74088, 79507, 85184, 91125, 97336, 103823, 110592, 117649, 125000, 132651, 140608, 148877, 157464, 166375, 175616, 185193, 195112, 205379, 216000, 226981, 238328, 250047, 262144, 274625, 287496, 300763, 314432, 328509, 343000, 357911, 373248, 389017, 405224, 421875, 438976, 456533, 474552, 493039, 512000, 531441, 551368, 571787, 592704, 614125, 636056, 658503, 681472, 704969, 729000, 753571, 778688, 804357, 830584, 857375, 884736, 912673, 941192, 970299]\n"
     ]
    }
   ],
   "source": [
    "import time \n",
    "def calculate_time(func):\n",
    "    def wrapper(numbers):\n",
    "        start = time.time()\n",
    "        end = time.time()\n",
    "        result = func(numbers)\n",
    "        print(func.__name__ + \" \" + str(end - start) + \"HAHA\")\n",
    "        return result\n",
    "    return wrapper\n",
    "\n",
    "@calculate_time\n",
    "def kare_al_wrapper(numbers):\n",
    "    result = []\n",
    "    for i in numbers:\n",
    "        result.append(i ** 2)\n",
    "    return result\n",
    "\n",
    "@calculate_time\n",
    "def kup_al_wrapper(numbers):\n",
    "    result = []\n",
    "    for i in numbers:\n",
    "        result.append(i ** 3)\n",
    "    return result\n",
    "\n",
    "print(kare_al_wrapper(range(100)))\n",
    "print(kup_al_wrapper(range(100)))"
   ]
  },
  {
   "cell_type": "markdown",
   "metadata": {
    "colab_type": "text",
    "id": "isVAEvmhP_vr"
   },
   "source": [
    "# Numpy\n",
    "\n",
    "\n",
    "\n",
    "* Basic library used in scientific calculations\n",
    "\n",
    "* Linear algebra, machine learning, data science\n",
    "\n",
    "* Multi-dimensional arrays\n",
    "\n",
    "* Fast access to multidimensional arrays\n",
    "\n",
    "* The difference from the lists is having a fixed size."
   ]
  },
  {
   "cell_type": "markdown",
   "metadata": {
    "colab_type": "text",
    "id": "d-j4I9KIP_vs"
   },
   "source": [
    "![Scalar Vector Matrix Tensor](https://res.cloudinary.com/practicaldev/image/fetch/s--oTgfo1EL--/c_limit%2Cf_auto%2Cfl_progressive%2Cq_auto%2Cw_880/https://raw.githubusercontent.com/adhiraiyan/DeepLearningWithTF2.0/master/notebooks/figures/fig0201a.png)"
   ]
  },
  {
   "cell_type": "code",
   "execution_count": null,
   "metadata": {
    "colab": {},
    "colab_type": "code",
    "id": "DRxBPTAFP_vu"
   },
   "outputs": [],
   "source": [
    "import numpy as np"
   ]
  },
  {
   "cell_type": "code",
   "execution_count": null,
   "metadata": {
    "colab": {},
    "colab_type": "code",
    "id": "7SY5nQT4P_vx",
    "outputId": "5bf14216-c709-43aa-e36b-51e2df9b7a43"
   },
   "outputs": [
    {
     "name": "stdout",
     "output_type": "stream",
     "text": [
      "<class 'numpy.ndarray'>\n",
      "(6,)\n"
     ]
    }
   ],
   "source": [
    "a = np.array([10, 20, 30, 40, 50, 60])\n",
    "print(type(a))\n",
    "print(a.shape)"
   ]
  },
  {
   "cell_type": "code",
   "execution_count": null,
   "metadata": {
    "colab": {},
    "colab_type": "code",
    "id": "upqd9RtSP_v1",
    "outputId": "9ad7f575-72e4-4cfa-b425-7007216485c8"
   },
   "outputs": [
    {
     "data": {
      "text/plain": [
       "4"
      ]
     },
     "execution_count": 106,
     "metadata": {
      "tags": []
     },
     "output_type": "execute_result"
    }
   ],
   "source": [
    "liste= [1,2,3,4,5]\n",
    "liste[3]"
   ]
  },
  {
   "cell_type": "code",
   "execution_count": null,
   "metadata": {
    "colab": {},
    "colab_type": "code",
    "id": "2kIrBKqxP_v3",
    "outputId": "2874d728-a8fe-4c4a-bf87-1bb33bfb3a63"
   },
   "outputs": [
    {
     "name": "stdout",
     "output_type": "stream",
     "text": [
      "40\n"
     ]
    }
   ],
   "source": [
    "print(a[3])"
   ]
  },
  {
   "cell_type": "code",
   "execution_count": null,
   "metadata": {
    "colab": {},
    "colab_type": "code",
    "id": "ISKAKD5xP_v5",
    "outputId": "9d144c38-495b-4932-e12a-d091d8512294"
   },
   "outputs": [
    {
     "data": {
      "text/plain": [
       "numpy.int32"
      ]
     },
     "execution_count": 108,
     "metadata": {
      "tags": []
     },
     "output_type": "execute_result"
    }
   ],
   "source": [
    "type(a[3])"
   ]
  },
  {
   "cell_type": "code",
   "execution_count": null,
   "metadata": {
    "colab": {},
    "colab_type": "code",
    "id": "THDq0hf4P_v8",
    "outputId": "b23303c3-3722-4d7d-ac22-1ca99caacbdf"
   },
   "outputs": [
    {
     "name": "stdout",
     "output_type": "stream",
     "text": [
      "60\n"
     ]
    }
   ],
   "source": [
    "a[2] *= 2\n",
    "print(a[2])"
   ]
  },
  {
   "cell_type": "code",
   "execution_count": null,
   "metadata": {
    "colab": {},
    "colab_type": "code",
    "id": "Z04KXjAMP_wA",
    "outputId": "cf7cd771-6ff1-4125-8f85-e15649662b1f"
   },
   "outputs": [
    {
     "data": {
      "text/plain": [
       "array([10, 20, 60, 40, 50, 60])"
      ]
     },
     "execution_count": 110,
     "metadata": {
      "tags": []
     },
     "output_type": "execute_result"
    }
   ],
   "source": [
    "a"
   ]
  },
  {
   "cell_type": "code",
   "execution_count": null,
   "metadata": {
    "colab": {},
    "colab_type": "code",
    "id": "OSum7FfqP_wF",
    "outputId": "8cd7dec1-c2bf-4b18-873e-5d3a5f98609d"
   },
   "outputs": [
    {
     "data": {
      "text/plain": [
       "array([1, 2, 3])"
      ]
     },
     "execution_count": 112,
     "metadata": {
      "tags": []
     },
     "output_type": "execute_result"
    }
   ],
   "source": [
    "x = np.array([1,2,3])\n",
    "y = x\n",
    "z = np.copy(x)\n",
    "z"
   ]
  },
  {
   "cell_type": "code",
   "execution_count": null,
   "metadata": {
    "colab": {},
    "colab_type": "code",
    "id": "bKJYtT00P_wK",
    "outputId": "20280306-12cb-4960-da3c-3b5bf3d5eddc"
   },
   "outputs": [
    {
     "data": {
      "text/plain": [
       "array([1, 2, 3])"
      ]
     },
     "execution_count": 115,
     "metadata": {
      "tags": []
     },
     "output_type": "execute_result"
    }
   ],
   "source": [
    "x[0] = 10\n",
    "x[0] == y[0]\n",
    "x[0] == z[0]\n",
    "z"
   ]
  },
  {
   "cell_type": "code",
   "execution_count": null,
   "metadata": {
    "colab": {},
    "colab_type": "code",
    "id": "uR-Oc3UyP_wN",
    "outputId": "5b43b24c-40a7-4cd9-bacb-af79d2e8d46b"
   },
   "outputs": [
    {
     "name": "stdout",
     "output_type": "stream",
     "text": [
      "[[10 20 30]\n",
      " [40 50 60]]\n",
      "(2, 3)\n",
      "int32\n",
      "<class 'numpy.ndarray'>\n"
     ]
    }
   ],
   "source": [
    "b = np.array([\n",
    "    [10, 20, 30],\n",
    "    [40, 50, 60]\n",
    "])\n",
    "print(b)\n",
    "print(b.shape)\n",
    "print(b.dtype)\n",
    "print(type(b))"
   ]
  },
  {
   "cell_type": "code",
   "execution_count": null,
   "metadata": {
    "colab": {},
    "colab_type": "code",
    "id": "h2oekcliP_wQ",
    "outputId": "77d8f23b-39b2-437a-cc79-ecfc14622b79"
   },
   "outputs": [
    {
     "data": {
      "text/plain": [
       "array([-0.54402111,  0.91294525, -0.98803162,  0.74511316, -0.26237485,\n",
       "       -0.80115264])"
      ]
     },
     "execution_count": 118,
     "metadata": {
      "tags": []
     },
     "output_type": "execute_result"
    }
   ],
   "source": [
    "a = np.array([10, 20, 30, 40, 50, 180])\n",
    "np.sin(a)"
   ]
  },
  {
   "cell_type": "code",
   "execution_count": null,
   "metadata": {
    "colab": {},
    "colab_type": "code",
    "id": "4P-wVngCP_wU",
    "outputId": "478966b2-b93b-4875-dd4d-d66e61cc1f88"
   },
   "outputs": [
    {
     "data": {
      "text/plain": [
       "array([-0.83907153,  0.40808206,  0.15425145, -0.66693806,  0.96496603,\n",
       "       -0.95241298])"
      ]
     },
     "execution_count": 44,
     "metadata": {
      "tags": []
     },
     "output_type": "execute_result"
    }
   ],
   "source": [
    "np.cos(a)"
   ]
  },
  {
   "cell_type": "code",
   "execution_count": null,
   "metadata": {
    "colab": {},
    "colab_type": "code",
    "id": "UhIVPd_rP_wX",
    "outputId": "bd410018-69cf-445b-87b8-49fddf016899"
   },
   "outputs": [
    {
     "data": {
      "text/plain": [
       "array([2.30258509, 2.99573227, 3.40119738, 3.68887945, 3.91202301,\n",
       "       4.09434456])"
      ]
     },
     "execution_count": 45,
     "metadata": {
      "tags": []
     },
     "output_type": "execute_result"
    }
   ],
   "source": [
    "np.log(a)"
   ]
  },
  {
   "cell_type": "code",
   "execution_count": null,
   "metadata": {
    "colab": {},
    "colab_type": "code",
    "id": "JzGZbERqP_wa",
    "outputId": "db4c2f7b-1f8b-4bfc-f270-7a1b80522a08"
   },
   "outputs": [
    {
     "data": {
      "text/plain": [
       "array([2.20264658e+04, 4.85165195e+08, 1.06864746e+13, 2.35385267e+17,\n",
       "       5.18470553e+21, 1.48938420e+78])"
      ]
     },
     "execution_count": 120,
     "metadata": {
      "tags": []
     },
     "output_type": "execute_result"
    }
   ],
   "source": [
    "#Calculate the exponential of all elements in the input array\n",
    "np.exp(a)"
   ]
  },
  {
   "cell_type": "code",
   "execution_count": null,
   "metadata": {
    "colab": {},
    "colab_type": "code",
    "id": "3neiDWQ-P_we",
    "outputId": "862a991d-efee-44b6-9dca-2810b7668d0f"
   },
   "outputs": [
    {
     "data": {
      "text/plain": [
       "array([ 10,  20, 100,  40,  10,  60])"
      ]
     },
     "execution_count": 47,
     "metadata": {
      "tags": []
     },
     "output_type": "execute_result"
    }
   ],
   "source": [
    "c = np.array([10, 20, 100, 40, 10, 60])\n",
    "c"
   ]
  },
  {
   "cell_type": "code",
   "execution_count": null,
   "metadata": {
    "colab": {},
    "colab_type": "code",
    "id": "qaiSw_cWP_wi",
    "outputId": "d62a339c-651c-4f9e-bac1-4f9136d6139f"
   },
   "outputs": [
    {
     "data": {
      "text/plain": [
       "100"
      ]
     },
     "execution_count": 48,
     "metadata": {
      "tags": []
     },
     "output_type": "execute_result"
    }
   ],
   "source": [
    "np.max(c)"
   ]
  },
  {
   "cell_type": "code",
   "execution_count": null,
   "metadata": {
    "colab": {},
    "colab_type": "code",
    "id": "BPVC2FX4P_wk",
    "outputId": "00d404c5-722a-4dc6-ce7e-883fabcfa40d"
   },
   "outputs": [
    {
     "data": {
      "text/plain": [
       "10"
      ]
     },
     "execution_count": 49,
     "metadata": {
      "tags": []
     },
     "output_type": "execute_result"
    }
   ],
   "source": [
    "np.min(c)"
   ]
  },
  {
   "cell_type": "code",
   "execution_count": null,
   "metadata": {
    "colab": {},
    "colab_type": "code",
    "id": "_sIFg6mOP_wn",
    "outputId": "fa2ca0c1-1386-48ef-e420-477a9f78fcbd"
   },
   "outputs": [
    {
     "data": {
      "text/plain": [
       "2"
      ]
     },
     "execution_count": 121,
     "metadata": {
      "tags": []
     },
     "output_type": "execute_result"
    }
   ],
   "source": [
    "#found the index of maximum element\n",
    "np.argmax(c)"
   ]
  },
  {
   "cell_type": "code",
   "execution_count": null,
   "metadata": {
    "colab": {},
    "colab_type": "code",
    "id": "6Lh3wICKP_wq",
    "outputId": "8dfe1480-b1d9-41eb-f253-42f20edc7506"
   },
   "outputs": [
    {
     "data": {
      "text/plain": [
       "40.0"
      ]
     },
     "execution_count": 51,
     "metadata": {
      "tags": []
     },
     "output_type": "execute_result"
    }
   ],
   "source": [
    "np.mean(c)"
   ]
  },
  {
   "cell_type": "code",
   "execution_count": null,
   "metadata": {
    "colab": {},
    "colab_type": "code",
    "id": "YaOoumNsP_ws",
    "outputId": "342334fd-0494-438a-b70f-f32d75817891"
   },
   "outputs": [
    {
     "data": {
      "text/plain": [
       "30.0"
      ]
     },
     "execution_count": 52,
     "metadata": {
      "tags": []
     },
     "output_type": "execute_result"
    }
   ],
   "source": [
    "np.median(c)"
   ]
  },
  {
   "cell_type": "code",
   "execution_count": null,
   "metadata": {
    "colab": {},
    "colab_type": "code",
    "id": "WyLmUm_XP_wx",
    "outputId": "b5163d0c-29fd-4280-980b-c316de9fe5ab"
   },
   "outputs": [
    {
     "data": {
      "text/plain": [
       "2.997941680718231"
      ]
     },
     "execution_count": 122,
     "metadata": {
      "tags": []
     },
     "output_type": "execute_result"
    }
   ],
   "source": [
    "#standard deviation\n",
    "np.std(c)"
   ]
  },
  {
   "cell_type": "code",
   "execution_count": null,
   "metadata": {
    "colab": {},
    "colab_type": "code",
    "id": "aVrPN66EP_w3",
    "outputId": "2731a384-6813-480e-f728-290aa4a5cf18"
   },
   "outputs": [
    {
     "data": {
      "text/plain": [
       "array([[10, 20, 30],\n",
       "       [40, 50, 60]])"
      ]
     },
     "execution_count": 54,
     "metadata": {
      "tags": []
     },
     "output_type": "execute_result"
    }
   ],
   "source": [
    "b"
   ]
  },
  {
   "cell_type": "code",
   "execution_count": null,
   "metadata": {
    "colab": {},
    "colab_type": "code",
    "id": "AxaxCdKwP_w5",
    "outputId": "2055e03a-483f-47c5-e012-d3cef79ae5cc"
   },
   "outputs": [
    {
     "data": {
      "text/plain": [
       "array([50, 70, 90])"
      ]
     },
     "execution_count": 126,
     "metadata": {
      "tags": []
     },
     "output_type": "execute_result"
    }
   ],
   "source": [
    "# axis=1 => Row\n",
    "# axis=0 => Column\n",
    "np.sum(b, axis = 0)"
   ]
  },
  {
   "cell_type": "code",
   "execution_count": null,
   "metadata": {
    "colab": {},
    "colab_type": "code",
    "id": "Z3AAvCA4P_w-",
    "outputId": "a92241ba-cbaa-41f0-bc7d-ea6c8baef973"
   },
   "outputs": [
    {
     "name": "stdout",
     "output_type": "stream",
     "text": [
      "[[0. 0. 0.]\n",
      " [0. 0. 0.]\n",
      " [0. 0. 0.]]\n"
     ]
    }
   ],
   "source": [
    "zeros = np.zeros((3, 3))\n",
    "print(zeros)"
   ]
  },
  {
   "cell_type": "code",
   "execution_count": null,
   "metadata": {
    "colab": {},
    "colab_type": "code",
    "id": "aHNob4HnP_xG",
    "outputId": "e8e1a3e0-f47f-4bd9-c633-0f2a5bd6e696"
   },
   "outputs": [
    {
     "name": "stdout",
     "output_type": "stream",
     "text": [
      "[[1. 1. 1.]\n",
      " [1. 1. 1.]\n",
      " [1. 1. 1.]]\n"
     ]
    }
   ],
   "source": [
    "ones = np.ones((3, 3))\n",
    "print(ones)"
   ]
  },
  {
   "cell_type": "code",
   "execution_count": null,
   "metadata": {
    "colab": {},
    "colab_type": "code",
    "id": "MDRIJbA2P_xK",
    "outputId": "fc0995d6-24e3-41ae-bb77-3ad2a8dfc44b"
   },
   "outputs": [
    {
     "name": "stdout",
     "output_type": "stream",
     "text": [
      "[[5 5 5]\n",
      " [5 5 5]\n",
      " [5 5 5]]\n"
     ]
    }
   ],
   "source": [
    "full = np.full((3, 3), 5)\n",
    "print(full)"
   ]
  },
  {
   "cell_type": "code",
   "execution_count": null,
   "metadata": {
    "colab": {},
    "colab_type": "code",
    "id": "PSLSoAu8P_xQ",
    "outputId": "0b9ebbcf-c3ae-495e-f8d4-0259e4cc2874"
   },
   "outputs": [
    {
     "name": "stdout",
     "output_type": "stream",
     "text": [
      "[[1. 0. 0. 0. 0.]\n",
      " [0. 1. 0. 0. 0.]\n",
      " [0. 0. 1. 0. 0.]\n",
      " [0. 0. 0. 1. 0.]\n",
      " [0. 0. 0. 0. 1.]]\n"
     ]
    }
   ],
   "source": [
    "#Identity matrix n*n\n",
    "eye = np.eye(5)\n",
    "print(eye)"
   ]
  },
  {
   "cell_type": "code",
   "execution_count": null,
   "metadata": {
    "colab": {},
    "colab_type": "code",
    "id": "bIFpGoDmP_xV",
    "outputId": "39061919-4069-49fe-daee-a7f8ae74e072"
   },
   "outputs": [
    {
     "name": "stdout",
     "output_type": "stream",
     "text": [
      "[0 1 2 3 4 5 6]\n",
      "[0 1 2 3 4 5 6 7 8 9]\n",
      "[0 2 4 6 8]\n"
     ]
    }
   ],
   "source": [
    "arange = np.arange(7)\n",
    "print(arange)\n",
    "\n",
    "arange = np.arange(0, 10)\n",
    "print(arange)\n",
    "\n",
    "arange = np.arange(0, 10, 2)\n",
    "print(arange)"
   ]
  },
  {
   "cell_type": "code",
   "execution_count": null,
   "metadata": {
    "colab": {},
    "colab_type": "code",
    "id": "khncqjJ1P_xa",
    "outputId": "a07f3a05-da25-4b2a-925b-2947f0e02182"
   },
   "outputs": [
    {
     "name": "stdout",
     "output_type": "stream",
     "text": [
      "[[0.51118639 0.84087018 0.15037286]\n",
      " [0.66320806 0.89214617 0.07764766]\n",
      " [0.44066875 0.59388301 0.78066343]]\n"
     ]
    }
   ],
   "source": [
    "# Create randint\n",
    "random = np.random.random((3, 3))\n",
    "print(random)"
   ]
  },
  {
   "cell_type": "code",
   "execution_count": null,
   "metadata": {
    "colab": {},
    "colab_type": "code",
    "id": "iz6MKSbnP_xf",
    "outputId": "22083a7c-0e3c-4923-9257-d4dc50657430"
   },
   "outputs": [
    {
     "name": "stdout",
     "output_type": "stream",
     "text": [
      "[[ 0  2 14 17  0]\n",
      " [10  5  2 17  4]\n",
      " [17  5 17  6  4]\n",
      " [12 11  9 13  8]\n",
      " [ 9  1  5  9  0]]\n"
     ]
    }
   ],
   "source": [
    "arr = np.random.randint(20, size=(5, 5))\n",
    "print(arr)"
   ]
  },
  {
   "cell_type": "code",
   "execution_count": null,
   "metadata": {
    "colab": {},
    "colab_type": "code",
    "id": "Ve546NXuP_xj",
    "outputId": "c29c715e-4db2-48e0-fa17-bb085dc40a46"
   },
   "outputs": [
    {
     "data": {
      "text/plain": [
       "array([[0., 0., 0.],\n",
       "       [0., 0., 0.],\n",
       "       [0., 0., 0.]])"
      ]
     },
     "execution_count": 135,
     "metadata": {
      "tags": []
     },
     "output_type": "execute_result"
    }
   ],
   "source": [
    "zeros*6"
   ]
  },
  {
   "cell_type": "code",
   "execution_count": null,
   "metadata": {
    "colab": {},
    "colab_type": "code",
    "id": "hnbJiEDLP_xl",
    "outputId": "5385e827-3dee-40e1-82fe-a2755581f9f4"
   },
   "outputs": [
    {
     "data": {
      "text/plain": [
       "array([[ 0,  2, 14, 17,  0],\n",
       "       [10,  5,  2, 17,  4],\n",
       "       [17,  5, 17,  6,  4],\n",
       "       [12, 11,  9, 13,  8],\n",
       "       [ 9,  1,  5,  9,  0]])"
      ]
     },
     "execution_count": 136,
     "metadata": {
      "tags": []
     },
     "output_type": "execute_result"
    }
   ],
   "source": [
    "arr"
   ]
  },
  {
   "cell_type": "code",
   "execution_count": null,
   "metadata": {
    "colab": {},
    "colab_type": "code",
    "id": "ODCnOmEtP_xp",
    "outputId": "a7ba8d07-f2eb-42ac-c94f-cd98a82c285d"
   },
   "outputs": [
    {
     "data": {
      "text/plain": [
       "9"
      ]
     },
     "execution_count": 138,
     "metadata": {
      "tags": []
     },
     "output_type": "execute_result"
    }
   ],
   "source": [
    "arr[3,2]"
   ]
  },
  {
   "cell_type": "code",
   "execution_count": null,
   "metadata": {
    "colab": {},
    "colab_type": "code",
    "id": "m5M0YNysP_xt",
    "outputId": "29b5e8db-cd54-4700-f764-9d04825d0e1c"
   },
   "outputs": [
    {
     "data": {
      "text/plain": [
       "array([[ 0,  2],\n",
       "       [10,  5],\n",
       "       [17,  5]])"
      ]
     },
     "execution_count": 140,
     "metadata": {
      "tags": []
     },
     "output_type": "execute_result"
    }
   ],
   "source": [
    "arr[0:3, ::]\n",
    "#arr[satır, sütun]"
   ]
  },
  {
   "cell_type": "code",
   "execution_count": null,
   "metadata": {
    "colab": {},
    "colab_type": "code",
    "id": "yP8cfxKyP_xx",
    "outputId": "9b5d569f-5823-4982-cfd8-ba96e07c5f4c"
   },
   "outputs": [
    {
     "data": {
      "text/plain": [
       "array([[ 0,  2],\n",
       "       [10,  5],\n",
       "       [17,  5]])"
      ]
     },
     "execution_count": 141,
     "metadata": {
      "tags": []
     },
     "output_type": "execute_result"
    }
   ],
   "source": [
    "arr[0:3, :2]"
   ]
  },
  {
   "cell_type": "code",
   "execution_count": null,
   "metadata": {
    "colab": {},
    "colab_type": "code",
    "id": "-7NqniYMP_x7",
    "outputId": "70e7c7b6-ded3-4245-aa09-ee9c0985b0b0"
   },
   "outputs": [
    {
     "data": {
      "text/plain": [
       "array([14, 17, 17, 17, 17, 12, 11, 13])"
      ]
     },
     "execution_count": 142,
     "metadata": {
      "tags": []
     },
     "output_type": "execute_result"
    }
   ],
   "source": [
    "arr[arr > 10]"
   ]
  },
  {
   "cell_type": "code",
   "execution_count": null,
   "metadata": {
    "colab": {},
    "colab_type": "code",
    "id": "QraSwV8jP_x_",
    "outputId": "6f0c8091-d003-4a4e-dd72-4b4598c8cb71"
   },
   "outputs": [
    {
     "data": {
      "text/plain": [
       "(array([0, 0, 0, 0, 1, 1, 1, 1, 2, 3, 3, 4]),\n",
       " array([0, 1, 2, 4, 0, 1, 2, 3, 1, 1, 4, 0]))"
      ]
     },
     "execution_count": 194,
     "metadata": {
      "tags": []
     },
     "output_type": "execute_result"
    }
   ],
   "source": [
    "np.where(arr > 10)"
   ]
  },
  {
   "cell_type": "code",
   "execution_count": null,
   "metadata": {
    "colab": {},
    "colab_type": "code",
    "id": "e1pcaFB6P_yB",
    "outputId": "09cc1c18-93d2-4a87-fbc6-db4153b3dc93"
   },
   "outputs": [
    {
     "data": {
      "text/plain": [
       "(2, 6)"
      ]
     },
     "execution_count": 146,
     "metadata": {
      "tags": []
     },
     "output_type": "execute_result"
    }
   ],
   "source": [
    "np.array([\n",
    "    [1, 2, 3, 4],\n",
    "    [5, 6, 7, 8],\n",
    "    [9, 10, 11, 12]\n",
    "]).reshape(2,6).shape"
   ]
  },
  {
   "cell_type": "code",
   "execution_count": null,
   "metadata": {
    "colab": {},
    "colab_type": "code",
    "id": "nkukDlDdP_yF",
    "outputId": "230e102f-f7f4-4f2e-caab-cbed1dac04b0"
   },
   "outputs": [
    {
     "name": "stdout",
     "output_type": "stream",
     "text": [
      "[[3 1 9]\n",
      " [7 6 5]\n",
      " [0 4 0]]\n",
      "[[-0.10416667  0.1875     -0.25520833]\n",
      " [ 0.          0.          0.25      ]\n",
      " [ 0.14583333 -0.0625      0.05729167]]\n"
     ]
    }
   ],
   "source": [
    "#inverse in lineer algebra\n",
    "c = np.random.randint(10, size=(3, 3))\n",
    "print(c)\n",
    "c_inv = np.linalg.inv(c)\n",
    "print(c_inv)"
   ]
  },
  {
   "cell_type": "markdown",
   "metadata": {
    "colab_type": "text",
    "id": "B0emXDBnP_yJ"
   },
   "source": [
    "## İç Çarpım (Dot product)\n",
    "![Dot product](https://algebra1course.files.wordpress.com/2013/02/slide10.jpg)\n",
    "\n",
    "credit: https://algebra1course.files.wordpress.com/"
   ]
  },
  {
   "cell_type": "code",
   "execution_count": null,
   "metadata": {
    "colab": {},
    "colab_type": "code",
    "id": "hIZgqzuKP_yM",
    "outputId": "ebb677bc-a84a-496c-f7fe-a0e54dc0bdcb"
   },
   "outputs": [
    {
     "name": "stdout",
     "output_type": "stream",
     "text": [
      "(2, 3)\n"
     ]
    }
   ],
   "source": [
    "a = np.array([\n",
    "    [1, 2, 3],\n",
    "    [4, 5, 6]\n",
    "])\n",
    "print(a.shape)"
   ]
  },
  {
   "cell_type": "code",
   "execution_count": null,
   "metadata": {
    "colab": {},
    "colab_type": "code",
    "id": "-BgTKksuP_yO",
    "outputId": "754b66e5-7eb9-403c-cad7-d378bd53f063"
   },
   "outputs": [
    {
     "name": "stdout",
     "output_type": "stream",
     "text": [
      "(2, 3)\n"
     ]
    }
   ],
   "source": [
    "b = np.array([\n",
    "    [7, 8, 9],\n",
    "    [10, 11, 12]\n",
    "])\n",
    "print(a.shape)"
   ]
  },
  {
   "cell_type": "code",
   "execution_count": null,
   "metadata": {
    "colab": {},
    "colab_type": "code",
    "id": "NWr6dxx0P_yQ",
    "outputId": "ecf25789-9835-490d-8912-5e11d9b2c3c8"
   },
   "outputs": [
    {
     "ename": "ValueError",
     "evalue": "shapes (2,3) and (2,3) not aligned: 3 (dim 1) != 2 (dim 0)",
     "output_type": "error",
     "traceback": [
      "\u001b[1;31m---------------------------------------------------------------------------\u001b[0m",
      "\u001b[1;31mValueError\u001b[0m                                Traceback (most recent call last)",
      "\u001b[1;32m<ipython-input-149-4eecf7a22330>\u001b[0m in \u001b[0;36m<module>\u001b[1;34m\u001b[0m\n\u001b[1;32m----> 1\u001b[1;33m \u001b[0maxb\u001b[0m \u001b[1;33m=\u001b[0m \u001b[0mnp\u001b[0m\u001b[1;33m.\u001b[0m\u001b[0mdot\u001b[0m\u001b[1;33m(\u001b[0m\u001b[0ma\u001b[0m\u001b[1;33m,\u001b[0m \u001b[0mb\u001b[0m\u001b[1;33m)\u001b[0m\u001b[1;33m\u001b[0m\u001b[1;33m\u001b[0m\u001b[0m\n\u001b[0m",
      "\u001b[1;32m<__array_function__ internals>\u001b[0m in \u001b[0;36mdot\u001b[1;34m(*args, **kwargs)\u001b[0m\n",
      "\u001b[1;31mValueError\u001b[0m: shapes (2,3) and (2,3) not aligned: 3 (dim 1) != 2 (dim 0)"
     ]
    }
   ],
   "source": [
    "axb = np.dot(a, b)"
   ]
  },
  {
   "cell_type": "code",
   "execution_count": null,
   "metadata": {
    "colab": {},
    "colab_type": "code",
    "id": "T6HRpwz5P_yU",
    "outputId": "7ea2a860-f243-487a-b0d1-6d9a64674886"
   },
   "outputs": [
    {
     "data": {
      "text/plain": [
       "(3, 2)"
      ]
     },
     "execution_count": 150,
     "metadata": {
      "tags": []
     },
     "output_type": "execute_result"
    }
   ],
   "source": [
    "# Transpose\n",
    "(b.T).shape"
   ]
  },
  {
   "cell_type": "code",
   "execution_count": null,
   "metadata": {
    "colab": {},
    "colab_type": "code",
    "id": "nlRL08MlP_yX",
    "outputId": "e9e36acb-a170-452f-a3f2-7b433d71ee73"
   },
   "outputs": [
    {
     "name": "stdout",
     "output_type": "stream",
     "text": [
      "[[ 50  68]\n",
      " [122 167]]\n",
      "(2, 2)\n"
     ]
    }
   ],
   "source": [
    "axb = np.dot(a, b.T)\n",
    "print(axb)\n",
    "print(axb.shape)"
   ]
  },
  {
   "cell_type": "markdown",
   "metadata": {
    "colab": {},
    "colab_type": "code",
    "id": "f_gTlYITP_ya"
   },
   "source": [
    "#### Doğukan Kaan Bozkurt"
   ]
  }
 ],
 "metadata": {
  "colab": {
   "name": "Python3 NumPy.ipynb",
   "provenance": []
  },
  "kernelspec": {
   "display_name": "Python 3",
   "language": "python",
   "name": "python3"
  },
  "language_info": {
   "codemirror_mode": {
    "name": "ipython",
    "version": 3
   },
   "file_extension": ".py",
   "mimetype": "text/x-python",
   "name": "python",
   "nbconvert_exporter": "python",
   "pygments_lexer": "ipython3",
   "version": "3.8.5"
  }
 },
 "nbformat": 4,
 "nbformat_minor": 1
}
