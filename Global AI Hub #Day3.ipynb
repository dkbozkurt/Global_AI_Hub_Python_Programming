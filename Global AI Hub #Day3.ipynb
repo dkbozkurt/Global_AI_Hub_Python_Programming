{
 "cells": [
  {
   "cell_type": "markdown",
   "metadata": {},
   "source": [
    "# If/Else Statement"
   ]
  },
  {
   "cell_type": "code",
   "execution_count": 3,
   "metadata": {},
   "outputs": [
    {
     "name": "stdout",
     "output_type": "stream",
     "text": [
      "Enter a number: -2\n",
      "Result is :  2\n"
     ]
    }
   ],
   "source": [
    "num= int(input(\"Enter a number: \"))\n",
    "if num<0:\n",
    "    num*= -1 #num=num*-1\n",
    "\n",
    "print(\"Result is : \",num)"
   ]
  },
  {
   "cell_type": "code",
   "execution_count": 5,
   "metadata": {},
   "outputs": [
    {
     "name": "stdout",
     "output_type": "stream",
     "text": [
      "Please select a key : a\n",
      "Not available\n"
     ]
    }
   ],
   "source": [
    "course = \"python\"\n",
    "s= input(\"Please select a key : \")\n",
    "if s in course:\n",
    "    print(\"Available!\")\n",
    "else:\n",
    "    print(\"Not available\")"
   ]
  },
  {
   "cell_type": "markdown",
   "metadata": {},
   "source": [
    "#### If-Elif-Else"
   ]
  },
  {
   "cell_type": "markdown",
   "metadata": {},
   "source": [
    "else if olayı"
   ]
  },
  {
   "cell_type": "code",
   "execution_count": 8,
   "metadata": {},
   "outputs": [
    {
     "name": "stdout",
     "output_type": "stream",
     "text": [
      "Please enter an exam score: 55\n",
      "CC\n"
     ]
    }
   ],
   "source": [
    "score= int(input(\"Please enter an exam score: \"))\n",
    "\n",
    "if score <35:\n",
    "    print(\"FF\")\n",
    "elif score <=60:\n",
    "    print(\"CC\")\n",
    "elif score <=90:\n",
    "    print(\"AA\")\n",
    "else:\n",
    "    print(\"Unvalid score\")"
   ]
  },
  {
   "cell_type": "code",
   "execution_count": 10,
   "metadata": {},
   "outputs": [
    {
     "name": "stdout",
     "output_type": "stream",
     "text": [
      "X's value is,  6\n"
     ]
    }
   ],
   "source": [
    "x=5\n",
    "\n",
    "if x>4:\n",
    "    x+=1\n",
    "elif x>5:\n",
    "    x+=2\n",
    "elif x>7:\n",
    "    x+=3\n",
    "    \n",
    "print(\"X's value is, \",x)"
   ]
  },
  {
   "cell_type": "code",
   "execution_count": 11,
   "metadata": {},
   "outputs": [
    {
     "name": "stdout",
     "output_type": "stream",
     "text": [
      "X's value is,  11\n"
     ]
    }
   ],
   "source": [
    "x=5\n",
    "\n",
    "if x>4:\n",
    "    x+=1\n",
    "if x>5:\n",
    "    x+=2\n",
    "if x>7:\n",
    "    x+=3\n",
    "    \n",
    "print(\"X's value is, \",x)"
   ]
  },
  {
   "cell_type": "markdown",
   "metadata": {},
   "source": [
    "#### Soru\n",
    "\n"
   ]
  },
  {
   "cell_type": "code",
   "execution_count": 17,
   "metadata": {},
   "outputs": [
    {
     "name": "stdout",
     "output_type": "stream",
     "text": [
      "Please enter your salary value: 100\n",
      "Your expected salary would be ... 115.0\n"
     ]
    }
   ],
   "source": [
    "maas =float(input(\"Please enter your salary value: \"))\n",
    "if maas <0 :\n",
    "    print(\"Unvalid salary value.\")\n",
    "else:\n",
    "    \n",
    "    if 0 < maas <=1000:\n",
    "        maas=maas+maas*0.15\n",
    "    elif maas <=2000:\n",
    "        maas=maas+maas*0.1\n",
    "    elif maas <=3000:\n",
    "        maas=maas+maas*0.05\n",
    "    elif maas <=4000:\n",
    "        maas=maas+maas*0.025\n",
    "        \n",
    "    print(\"Your expected salary would be ...\", maas)"
   ]
  },
  {
   "cell_type": "markdown",
   "metadata": {},
   "source": [
    "# While"
   ]
  },
  {
   "cell_type": "code",
   "execution_count": 18,
   "metadata": {},
   "outputs": [
    {
     "name": "stdout",
     "output_type": "stream",
     "text": [
      "Number's value is  0\n",
      "Number's value is  1\n",
      "Number's value is  2\n",
      "Number's value is  3\n",
      "Number's value is  4\n",
      "Number's value is  5\n",
      "Number's value is  6\n",
      "Number's value is  7\n",
      "Number's value is  8\n"
     ]
    }
   ],
   "source": [
    "sayi=0\n",
    "\n",
    "while sayi <9 :\n",
    "    print(\"Number's value is \",sayi)\n",
    "    sayi+=1"
   ]
  },
  {
   "cell_type": "code",
   "execution_count": 25,
   "metadata": {},
   "outputs": [
    {
     "name": "stdout",
     "output_type": "stream",
     "text": [
      "Number's value is  0\n",
      "Number's value is  2\n",
      "Number's value is  4\n",
      "Number's value is  6\n",
      "Number's value is  8\n",
      "Number's value is  10\n",
      "Number's value is  12\n",
      "Number's value is  14\n",
      "Number's value is  16\n",
      "Number's value is  18\n"
     ]
    }
   ],
   "source": [
    "sayi2=0\n",
    "\n",
    "while sayi2 !=20 :\n",
    "    print(\"Number's value is \",sayi2)\n",
    "    sayi2+=2"
   ]
  },
  {
   "cell_type": "code",
   "execution_count": 21,
   "metadata": {},
   "outputs": [
    {
     "name": "stdout",
     "output_type": "stream",
     "text": [
      "Please select a number from 1 to 10: -5\n",
      "You selected an unvalid value.\n",
      "Please select a number from 1 to 10: 15\n",
      "You selected an unvalid value.\n",
      "Please select a number from 1 to 10: 3\n",
      "Congratulations! You choosed, 3\n"
     ]
    }
   ],
   "source": [
    "sayi3= int(input(\"Please select a number from 1 to 10: \"))\n",
    "\n",
    "while sayi3 < 1 or sayi3 > 10:\n",
    "    print(\"You selected an unvalid value.\")\n",
    "    sayi3= int(input(\"Please select a number from 1 to 10: \"))\n",
    "print(\"Congratulations! You choosed,\",sayi3)"
   ]
  },
  {
   "cell_type": "code",
   "execution_count": 22,
   "metadata": {},
   "outputs": [
    {
     "name": "stdout",
     "output_type": "stream",
     "text": [
      "0 . element is  1\n",
      "1 . element is  2\n",
      "2 . element is  3\n",
      "3 . element is  4\n",
      "4 . element is  5\n",
      "5 . element is  6\n"
     ]
    }
   ],
   "source": [
    "t= [1,2,3,4,5,6]\n",
    "\n",
    "i=0\n",
    "while(i<len(t)):\n",
    "    #i+=1\n",
    "    print(i,\". element is \",t[i])\n",
    "    i+=1"
   ]
  },
  {
   "cell_type": "code",
   "execution_count": 26,
   "metadata": {},
   "outputs": [
    {
     "name": "stdout",
     "output_type": "stream",
     "text": [
      "Enter a value: 1\n",
      "Enter a value: 2\n",
      "Enter a value: Exit\n"
     ]
    }
   ],
   "source": [
    "while True:\n",
    "    a=input(\"Enter a value: \")\n",
    "    if a==\"Exit\":\n",
    "        break"
   ]
  },
  {
   "cell_type": "markdown",
   "metadata": {},
   "source": [
    "# For "
   ]
  },
  {
   "cell_type": "code",
   "execution_count": 27,
   "metadata": {},
   "outputs": [
    {
     "name": "stdout",
     "output_type": "stream",
     "text": [
      "2\n",
      "45\n",
      "57\n"
     ]
    }
   ],
   "source": [
    "for i in [2,45,57]:\n",
    "    print(i)"
   ]
  },
  {
   "cell_type": "code",
   "execution_count": 29,
   "metadata": {},
   "outputs": [
    {
     "name": "stdout",
     "output_type": "stream",
     "text": [
      "0\n",
      "1\n",
      "2\n",
      "3\n",
      "4\n"
     ]
    }
   ],
   "source": [
    "for i in range(5):\n",
    "    print(i)"
   ]
  },
  {
   "cell_type": "code",
   "execution_count": 32,
   "metadata": {},
   "outputs": [
    {
     "name": "stdout",
     "output_type": "stream",
     "text": [
      "P\n",
      "y\n",
      "t\n",
      "h\n",
      "o\n",
      "n\n",
      " \n",
      "C\n",
      "o\n",
      "u\n",
      "r\n",
      "s\n",
      "e\n"
     ]
    }
   ],
   "source": [
    "for i in \"Python Course\":\n",
    "    print(i)"
   ]
  },
  {
   "cell_type": "code",
   "execution_count": 31,
   "metadata": {},
   "outputs": [
    {
     "name": "stdout",
     "output_type": "stream",
     "text": [
      "Python\n",
      "Course\n"
     ]
    }
   ],
   "source": [
    "for i in \"Python Course\".split(): #split() boşluk görene kadar girder boşluk görünce ayırır.\n",
    "    print(i)"
   ]
  },
  {
   "cell_type": "code",
   "execution_count": 33,
   "metadata": {},
   "outputs": [
    {
     "name": "stdout",
     "output_type": "stream",
     "text": [
      "0\n",
      "1\n",
      "2\n",
      "3\n",
      "4\n"
     ]
    }
   ],
   "source": [
    "for i in range(10):\n",
    "    if i ==5:\n",
    "        break\n",
    "    print(i)"
   ]
  },
  {
   "cell_type": "code",
   "execution_count": 34,
   "metadata": {},
   "outputs": [
    {
     "name": "stdout",
     "output_type": "stream",
     "text": [
      "0\n",
      "1\n",
      "2\n",
      "3\n",
      "4\n",
      "6\n",
      "7\n",
      "8\n",
      "9\n"
     ]
    }
   ],
   "source": [
    "for i in range(10):\n",
    "    if i ==5:\n",
    "        continue #5 i atlayıp devam eder.\n",
    "    print(i)"
   ]
  },
  {
   "cell_type": "code",
   "execution_count": 35,
   "metadata": {},
   "outputs": [
    {
     "name": "stdout",
     "output_type": "stream",
     "text": [
      "[0, 1, 4, 9, 16, 25, 36, 49]\n"
     ]
    }
   ],
   "source": [
    "numbers=list(range(8))\n",
    "\n",
    "squares= []\n",
    "\n",
    "for i in numbers:\n",
    "    squares.append(i**2)\n",
    "print(squares)"
   ]
  },
  {
   "cell_type": "code",
   "execution_count": 46,
   "metadata": {},
   "outputs": [
    {
     "name": "stdout",
     "output_type": "stream",
     "text": [
      "[0, 1, 4, 9, 16, 25, 36, 49]\n"
     ]
    }
   ],
   "source": [
    "numbers=list(range(8))\n",
    "\n",
    "squares= [i**2 for i in numbers]\n",
    "print(squares)"
   ]
  },
  {
   "cell_type": "code",
   "execution_count": 38,
   "metadata": {},
   "outputs": [
    {
     "name": "stdout",
     "output_type": "stream",
     "text": [
      "[0, 4, 16, 36]\n",
      "[1, 27, 125, 343]\n"
     ]
    }
   ],
   "source": [
    "numbers=list(range(8))\n",
    "\n",
    "even_squares= [i**2\n",
    "         for i in numbers\n",
    "         if i % 2 ==0]\n",
    "\n",
    "odd_cube= [i**3\n",
    "         for i in numbers\n",
    "         if i % 2 ==1]\n",
    "print(even_squares)\n",
    "print(odd_cube)"
   ]
  },
  {
   "cell_type": "code",
   "execution_count": 39,
   "metadata": {},
   "outputs": [
    {
     "name": "stdout",
     "output_type": "stream",
     "text": [
      "127\n"
     ]
    }
   ],
   "source": [
    "mylist=[3,5,12,7,65,35]\n",
    "\n",
    "sum=0\n",
    "for i in mylist:\n",
    "    sum=sum+i #sum+=i\n",
    "print(sum)"
   ]
  },
  {
   "cell_type": "markdown",
   "metadata": {},
   "source": [
    "### Greatest number in a list"
   ]
  },
  {
   "cell_type": "code",
   "execution_count": 45,
   "metadata": {},
   "outputs": [
    {
     "name": "stdout",
     "output_type": "stream",
     "text": [
      "65\n"
     ]
    }
   ],
   "source": [
    "mylist=[3,5,12,7,65,35]\n",
    "max=mylist[0]\n",
    "\n",
    "for i in mylist:\n",
    "    if i > max:\n",
    "        max=i\n",
    "print(max)"
   ]
  },
  {
   "cell_type": "markdown",
   "metadata": {},
   "source": [
    "### Sum of lists"
   ]
  },
  {
   "cell_type": "code",
   "execution_count": 47,
   "metadata": {},
   "outputs": [
    {
     "name": "stdout",
     "output_type": "stream",
     "text": [
      "[5, 7, 9]\n"
     ]
    }
   ],
   "source": [
    "list1= [1,2,3]\n",
    "list2=[4,5,6]\n",
    "\n",
    "list3=[a + b for a,b in zip(list1,list2)] #zip(a,b) iki liste üzerinden aynı anda gidilmek istenirse kullanılır.\n",
    "\n",
    "print(list3)"
   ]
  },
  {
   "cell_type": "markdown",
   "metadata": {},
   "source": [
    "#### Soru#1"
   ]
  },
  {
   "cell_type": "markdown",
   "metadata": {},
   "source": [
    "Kullanıcıdan bir tamsayı değeri(stop_number) giren ve 0'dan stop_number'a kadar tüm sayıların toplamını yazdıran bir program yazın."
   ]
  },
  {
   "cell_type": "markdown",
   "metadata": {},
   "source": [
    "#### Cevap "
   ]
  },
  {
   "cell_type": "code",
   "execution_count": 73,
   "metadata": {},
   "outputs": [
    {
     "name": "stdout",
     "output_type": "stream",
     "text": [
      "Please select a stop value : -4\n",
      "Please select a valid value ! \n",
      "Please select a stop value : -5\n",
      "Please select a valid value ! \n",
      "Please select a stop value : 5\n",
      "Sum of the numbers is  10\n"
     ]
    }
   ],
   "source": [
    "stop_number=int(input(\"Please select a stop value : \"))\n",
    "i=0\n",
    "sum=0\n",
    "while stop_number<=0:\n",
    "    print(\"Please select a valid value ! \")\n",
    "    stop_number=int(input(\"Please select a stop value : \"))\n",
    "while i<stop_number:\n",
    "        sum=sum+i\n",
    "        i+=1\n",
    "print(\"Sum of the numbers is \",sum)"
   ]
  },
  {
   "cell_type": "markdown",
   "metadata": {},
   "source": [
    "#### Soru#2"
   ]
  },
  {
   "cell_type": "markdown",
   "metadata": {},
   "source": [
    "Programınızı, toplanacak sayıların başlangıç değerlerini de (star_number) girecek şekilde genişletin.Bu durumda programınız start_number dan stop_number a"
   ]
  },
  {
   "cell_type": "markdown",
   "metadata": {},
   "source": [
    "#### Cevap"
   ]
  },
  {
   "cell_type": "code",
   "execution_count": 84,
   "metadata": {},
   "outputs": [
    {
     "name": "stdout",
     "output_type": "stream",
     "text": [
      "Please select a start value :-5\n",
      "Please select a valid value ! \n",
      "Please select a start value :-1\n",
      "Please select a valid value ! \n",
      "Please select a start value :5\n",
      "Please select a stop value : -5\n",
      "Please select a valid value ! \n",
      "Please select a stop value : 87\n",
      "Sum of the numbers is  3731\n"
     ]
    }
   ],
   "source": [
    "start_number=int(input(\"Please select a start value :\"))\n",
    "while start_number<0:\n",
    "    print(\"Please select a valid value ! \")\n",
    "    start_number=int(input(\"Please select a start value :\"))\n",
    "    \n",
    "stop_number=int(input(\"Please select a stop value : \"))\n",
    "while stop_number<=0:\n",
    "    print(\"Please select a valid value ! \")\n",
    "    stop_number=int(input(\"Please select a stop value : \"))\n",
    "\n",
    "i=start_number\n",
    "sum=0\n",
    "\n",
    "while i<stop_number:\n",
    "        sum=sum+i\n",
    "        i+=1\n",
    "        \n",
    "print(\"Sum of the numbers is \",sum)"
   ]
  },
  {
   "cell_type": "markdown",
   "metadata": {},
   "source": [
    "#### Soru#3"
   ]
  },
  {
   "cell_type": "markdown",
   "metadata": {},
   "source": []
  },
  {
   "cell_type": "markdown",
   "metadata": {},
   "source": [
    "#### Cevap"
   ]
  },
  {
   "cell_type": "code",
   "execution_count": null,
   "metadata": {},
   "outputs": [],
   "source": []
  }
 ],
 "metadata": {
  "kernelspec": {
   "display_name": "Python 3",
   "language": "python",
   "name": "python3"
  },
  "language_info": {
   "codemirror_mode": {
    "name": "ipython",
    "version": 3
   },
   "file_extension": ".py",
   "mimetype": "text/x-python",
   "name": "python",
   "nbconvert_exporter": "python",
   "pygments_lexer": "ipython3",
   "version": "3.8.5"
  }
 },
 "nbformat": 4,
 "nbformat_minor": 4
}
